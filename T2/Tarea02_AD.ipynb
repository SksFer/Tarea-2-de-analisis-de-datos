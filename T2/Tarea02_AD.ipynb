{
 "cells": [
  {
   "cell_type": "markdown",
   "metadata": {
    "id": "207lgubXRJpS"
   },
   "source": [
    "# **Tarea 2. Análisis de Datos.**\n",
    "\n",
    "## *Modelos Paramétricos, Regresión y Clasificación.*\n",
    "\n",
    "**Profesor:** Ricardo Flores (rflores@inf.udec.cl), Manuel Pérez (maperezc@inf.udec.cl)<br>\n",
    "**Ayudantes:** Jorge Saavedra (jsaavedra2018@udec.cl).\n",
    "\n",
    "Fecha de entrega: **Lunes 14 de Octubre, 23:59 hrs.**\n",
    "\n",
    "**¿Cómo?:** La tarea debe ser subida a la plataforma de classroom en un archivo con el formato **NombreApellido_T2.zip**. Este debe contener el código solicitado, junto con el conjunto de datos utilizado en formato **.csv**.\n",
    "\n",
    "---\n",
    "\n",
    "#### Normas del curso:\n",
    "Antes de comenzar lea detenidamente las normas a aplicar en la evaluación de esta tarea.\n",
    "\n",
    "- El horario límite para entregar la tarea es a las **23:59** de la fecha señalada en el encabezado. Entregas\n",
    "posteriores a la fecha y hora indicada utilizan uno de sus días permitidos para atraso, en caso de no tener días\n",
    "de atraso disponibles se asigna **nota mínima**. Es por esto que se le recomienda subir la tarea con anticipación.\n",
    "- Cada respuesta debe ser explicada claramente sin dejar espacio a dobles interpretaciones. **El código de la tarea debe estar comentado.**\n",
    "- Está bien discutir las respuestas con compañeros/as. Está bien buscar la respuesta en internet. Está bien asistir a clases donde comentaremos como resolver la tarea. **No está bien** entregar código escrito por otras personas ya sea compañeros, código obtenido por internet o incluso el código que el profesor programa en clases.\n",
    "- **Todo código entregado debe ser escrito completamente por usted**. De lo contrario, su tarea será penalizada con la nota mínima.\n",
    "\n",
    "---\n",
    "\n",
    "#### ¿Cómo calculo mi nota?\n",
    "- $\\rm Nota_{T02}=(0.4*\\rm Nota_{\\rm reg})+(0.6*\\rm Nota_{\\rm clf}) + \\rm Puntos_{\\rm Bonus}$\n",
    "---"
   ]
  },
  {
   "cell_type": "code",
   "execution_count": 1,
   "metadata": {
    "id": "3xFjdv9FRJpU"
   },
   "outputs": [],
   "source": [
    "import numpy as np\n",
    "import matplotlib.pyplot as plt"
   ]
  },
  {
   "cell_type": "markdown",
   "metadata": {
    "id": "IhkOaisoRJpY"
   },
   "source": [
    "# **$\\bullet$ Regresión (40% Nota T02)**"
   ]
  },
  {
   "cell_type": "markdown",
   "metadata": {},
   "source": [
    "Considere un problema de regresión, donde, a partir de un conjunto de datos $\\{(\\boldsymbol{x}_1,y_1),(\\boldsymbol{x}_2,y_2),\\cdots, (\\boldsymbol{x}_N,y_N)\\}$, se desea encontrar una función que prediga el valor $y = f(\\boldsymbol{x}; \\boldsymbol{\\theta})$ para nuevos datos, donde $\\boldsymbol{\\theta}$ son los parámetros a ajustar del modelo. Considere un modelo de regresión lineal de $k$ parámetros\n",
    "\n",
    "$\\hat{y} = \\sum_{i=1}^pa_ig_i(\\boldsymbol{x}) + \\sum_{i=p+1}^kb_{i-p}g_i(\\boldsymbol{x})$,\n",
    "\n",
    "en donde sabemos que los primeros $p$ parámetros $\\{a_i\\}_{i=1}^p$ siguen un prior normal, mientras que los siguientes $k-p$ parámetros $\\{b_i\\}_{i=1}^{k-p}$ utilizan un prior de Laplace. Asuma un error normal sobre las mediciones $y_i$. Note que los parámetros del modelo son entonces $\\boldsymbol{\\theta}=(a_1, \\ldots, a_p, b_1, \\ldots, b_{k-p})$"
   ]
  },
  {
   "cell_type": "markdown",
   "metadata": {
    "id": "bFV6UjEeRJpY"
   },
   "source": [
    "---\n",
    "\n",
    "## **$\\bullet$ Pregunta 1 (3.0 Puntos)**\n",
    "\n",
    "Exprese matemáticamente el ajuste de maximum a-posteriori (MAP) del modelo de regresión lineal anteriormente mencionado a través de la minimización del negativo del logaritmo del posterior."
   ]
  },
  {
   "cell_type": "code",
   "execution_count": null,
   "metadata": {
    "id": "7sSgsc4mRJpY"
   },
   "outputs": [],
   "source": []
  },
  {
   "cell_type": "markdown",
   "metadata": {
    "id": "r_xsw27ARJpY"
   },
   "source": [
    "---\n",
    "\n",
    "## **$\\bullet$ Pregunta 2 (3.0 puntos)**\n",
    "\n",
    "**Implementación**: Programe el ajuste del modelo de regresión lineal descrito anteriormente.\n",
    "\n",
    "**IMPORTANTE**: Para las preguntas 2.1 y 2.2 no deberá utilizar métodos provenientes de otras librerías."
   ]
  },
  {
   "cell_type": "markdown",
   "metadata": {
    "id": "B9HpcHE0RJpZ"
   },
   "source": [
    "### **$\\cdot$ Pregunta 2.1 (1.5 puntos)**\n",
    "\n",
    "Calcule la derivada analítica de su función de costo en función de cada uno de los parámetros $\\theta_i$. Para el caso de la derivada de la función de valor absoluto evaluada en cero,"
   ]
  },
  {
   "cell_type": "code",
   "execution_count": null,
   "metadata": {},
   "outputs": [],
   "source": []
  },
  {
   "cell_type": "markdown",
   "metadata": {
    "id": "VdLt8gfNRJpZ"
   },
   "source": [
    "### **$\\cdot$ Pregunta 2.2 (1.5 puntos)**\n",
    "\n",
    "Calcule la derivada los siguientes $k-p$ parámetros que siguen un prior de laplace de forma analítica con ayuda de la fórmula $ f(x) = \\frac{f(x+h) - (x)}{h} $. Luego utilice el método del **gradiente descendiente** para obtener su derivada.\n",
    "\n",
    "El gradiente descendiente es un método iterativo en el cual tenemos una iteracion $t$, existe un $w^t$ para el cual se quiere calcular el gradiente y se mueve hacia $w^{t+1}$ en la dirección contraria al gradiente, siempre dando pasos de tamaño $\\alpha$.\n",
    "\n",
    "- Se puede calcular con la siguiente fórmula: $ w^{t+1} = w^t - \\alpha \\nabla_w J(w^t)  $\n",
    "    - $w^t$ : Corresponde al parámetro $w$ en la iteración $t$.\n",
    "    - $\\alpha$: Corresponde al learning rate.\n",
    "    - $\\nabla_w J(w^t)$: Corresponde al gradiente evaluado con el parámetro $w^t$.\n"
   ]
  },
  {
   "cell_type": "code",
   "execution_count": null,
   "metadata": {
    "id": "r8tQIO9nRJpZ"
   },
   "outputs": [],
   "source": []
  },
  {
   "cell_type": "markdown",
   "metadata": {},
   "source": [
    "### Evaluación\n",
    "\n",
    "Su nota en este item se calculará utilizando la siguiente fórmula:\n",
    "\n",
    "$\\rm Nota_{\\rm reg} = 1.0+ \\rm Pte_{P1} + \\rm Pte_{P2}$"
   ]
  },
  {
   "cell_type": "markdown",
   "metadata": {},
   "source": [
    "# **$\\bullet$ Clasificación (60% Nota T02)**"
   ]
  },
  {
   "cell_type": "markdown",
   "metadata": {
    "id": "hACOlD-KRJpZ"
   },
   "source": [
    "---\n",
    "## **$\\bullet$ Pregunta 1**\n",
    "\n",
    "### Galaxy Zoo mini challenge\n",
    "\n",
    "Galaxy Zoo es un sistema de clasificación de galaxias mediante crowdsourcing. Tiene cientos de miles de galaxias clasificadas de distintos telescopios. Uno de ellos es el Sloan Digital Sky Survey (SDSS) el cual contiene diversos atributos de cada galaxia. El objetivo de esta pregunta es entrenar un modelo de clasificación para galaxias espirales (disco con brazos espirales) y galaxias elipticas (forma aproximadamente elipsoidal) utilizando 85 atributos del SDSS.\n",
    "\n",
    "\n",
    "Ejemplos de galaxias elípticas y espirales pueden ser vistos acá: http://zoo1.galaxyzoo.org/Tutorial.aspx\n",
    "\n",
    "Para esto puede utilizar el archivo GZ_mini_challenge_train.csv incluido en esta tarea. Este archivo contiene el ID de la galaxia para efectos de este concurso (\"ID\"), el ID de la galaxia dentro del SDSS (\"objID\"), la proporción de personas que la clasificaron como elíptica (\"p_el\"), la proporción de personas que la clasificaron cono espiral (\"p_cs\"), la etiqueta (\"label\", donde 1 es espiral, 2 es eliptica y 0 es no decidible), y 85 atributos obtenidos del SDSS. En caso de que quiera ver alguna galaxia en particular puede usar el [SDSS explorer](http://skyserver.sdss.org/dr14/en/tools/explore/summary.aspx).\n",
    "\n",
    "Una vez que tenga su modelo entrenado, debe aplicarlo sobre el conjunto de datos no etiquetados (data/GZ_mini_challenge_test.csv) y crear un archivo \"predicted.csv\" con dos columnas:\n",
    "1. El ID de la galaxia\n",
    "2. Sus etiquetas predichas para cada galaxia **(labels numéricas con el mismo código de numeración entregado previamente)**.\n",
    "\n",
    "La forma de evaluar esta pregunta sera mediante el f1-score macro sobre sus predicciones en los datos no etiquetados.\n",
    "* macro: calculado para cada etiqueta y utilizando su media no ponderada, de esta forma no se toma en cuenta el desbalanceo de las etiquetas\n",
    "\n",
    "---\n"
   ]
  },
  {
   "cell_type": "code",
   "execution_count": 10,
   "metadata": {
    "id": "IXolAZ2zRJpZ",
    "outputId": "92a8f40d-605a-4e1d-8c0f-4754b37016ae"
   },
   "outputs": [
    {
     "data": {
      "text/html": [
       "<div>\n",
       "<style scoped>\n",
       "    .dataframe tbody tr th:only-of-type {\n",
       "        vertical-align: middle;\n",
       "    }\n",
       "\n",
       "    .dataframe tbody tr th {\n",
       "        vertical-align: top;\n",
       "    }\n",
       "\n",
       "    .dataframe thead th {\n",
       "        text-align: right;\n",
       "    }\n",
       "</style>\n",
       "<table border=\"1\" class=\"dataframe\">\n",
       "  <thead>\n",
       "    <tr style=\"text-align: right;\">\n",
       "      <th></th>\n",
       "      <th>ID</th>\n",
       "      <th>mjd</th>\n",
       "      <th>z</th>\n",
       "      <th>zErr</th>\n",
       "      <th>zWarning</th>\n",
       "      <th>cx</th>\n",
       "      <th>cy</th>\n",
       "      <th>cz</th>\n",
       "      <th>sciencePrimary</th>\n",
       "      <th>legacyPrimary</th>\n",
       "      <th>...</th>\n",
       "      <th>extinction_i</th>\n",
       "      <th>extinction_z</th>\n",
       "      <th>dered_u</th>\n",
       "      <th>dered_g</th>\n",
       "      <th>dered_r</th>\n",
       "      <th>dered_i</th>\n",
       "      <th>dered_z</th>\n",
       "      <th>p_cs</th>\n",
       "      <th>p_el</th>\n",
       "      <th>label</th>\n",
       "    </tr>\n",
       "  </thead>\n",
       "  <tbody>\n",
       "    <tr>\n",
       "      <th>0</th>\n",
       "      <td>1</td>\n",
       "      <td>53119</td>\n",
       "      <td>0.142862</td>\n",
       "      <td>0.000031</td>\n",
       "      <td>0</td>\n",
       "      <td>-0.947156</td>\n",
       "      <td>0.234806</td>\n",
       "      <td>0.218546</td>\n",
       "      <td>1</td>\n",
       "      <td>1</td>\n",
       "      <td>...</td>\n",
       "      <td>0.027516</td>\n",
       "      <td>0.020467</td>\n",
       "      <td>19.71417</td>\n",
       "      <td>17.89782</td>\n",
       "      <td>16.85166</td>\n",
       "      <td>16.32594</td>\n",
       "      <td>15.97762</td>\n",
       "      <td>0.118</td>\n",
       "      <td>0.794</td>\n",
       "      <td>2</td>\n",
       "    </tr>\n",
       "    <tr>\n",
       "      <th>1</th>\n",
       "      <td>2</td>\n",
       "      <td>53119</td>\n",
       "      <td>0.130709</td>\n",
       "      <td>0.000016</td>\n",
       "      <td>0</td>\n",
       "      <td>-0.947225</td>\n",
       "      <td>0.235187</td>\n",
       "      <td>0.217836</td>\n",
       "      <td>1</td>\n",
       "      <td>1</td>\n",
       "      <td>...</td>\n",
       "      <td>0.027918</td>\n",
       "      <td>0.020766</td>\n",
       "      <td>19.58643</td>\n",
       "      <td>17.75586</td>\n",
       "      <td>16.77871</td>\n",
       "      <td>16.31574</td>\n",
       "      <td>15.95822</td>\n",
       "      <td>0.361</td>\n",
       "      <td>0.611</td>\n",
       "      <td>2</td>\n",
       "    </tr>\n",
       "    <tr>\n",
       "      <th>2</th>\n",
       "      <td>3</td>\n",
       "      <td>53119</td>\n",
       "      <td>0.336631</td>\n",
       "      <td>0.000082</td>\n",
       "      <td>0</td>\n",
       "      <td>-0.949070</td>\n",
       "      <td>0.234849</td>\n",
       "      <td>0.210030</td>\n",
       "      <td>1</td>\n",
       "      <td>1</td>\n",
       "      <td>...</td>\n",
       "      <td>0.023559</td>\n",
       "      <td>0.017523</td>\n",
       "      <td>22.31949</td>\n",
       "      <td>20.26227</td>\n",
       "      <td>18.50848</td>\n",
       "      <td>17.94978</td>\n",
       "      <td>17.54792</td>\n",
       "      <td>0.113</td>\n",
       "      <td>0.521</td>\n",
       "      <td>2</td>\n",
       "    </tr>\n",
       "    <tr>\n",
       "      <th>3</th>\n",
       "      <td>4</td>\n",
       "      <td>53119</td>\n",
       "      <td>0.142885</td>\n",
       "      <td>0.000053</td>\n",
       "      <td>0</td>\n",
       "      <td>-0.947451</td>\n",
       "      <td>0.229448</td>\n",
       "      <td>0.222912</td>\n",
       "      <td>1</td>\n",
       "      <td>1</td>\n",
       "      <td>...</td>\n",
       "      <td>0.025687</td>\n",
       "      <td>0.019107</td>\n",
       "      <td>20.64116</td>\n",
       "      <td>18.75389</td>\n",
       "      <td>17.68335</td>\n",
       "      <td>17.22151</td>\n",
       "      <td>16.83896</td>\n",
       "      <td>0.081</td>\n",
       "      <td>0.839</td>\n",
       "      <td>2</td>\n",
       "    </tr>\n",
       "    <tr>\n",
       "      <th>4</th>\n",
       "      <td>5</td>\n",
       "      <td>53119</td>\n",
       "      <td>0.333033</td>\n",
       "      <td>0.000095</td>\n",
       "      <td>0</td>\n",
       "      <td>-0.946479</td>\n",
       "      <td>0.230773</td>\n",
       "      <td>0.225659</td>\n",
       "      <td>1</td>\n",
       "      <td>1</td>\n",
       "      <td>...</td>\n",
       "      <td>0.024715</td>\n",
       "      <td>0.018383</td>\n",
       "      <td>23.93892</td>\n",
       "      <td>20.46024</td>\n",
       "      <td>18.67124</td>\n",
       "      <td>18.09332</td>\n",
       "      <td>17.73189</td>\n",
       "      <td>0.100</td>\n",
       "      <td>0.733</td>\n",
       "      <td>2</td>\n",
       "    </tr>\n",
       "  </tbody>\n",
       "</table>\n",
       "<p>5 rows × 90 columns</p>\n",
       "</div>"
      ],
      "text/plain": [
       "   ID    mjd         z      zErr  zWarning        cx        cy        cz  \\\n",
       "0   1  53119  0.142862  0.000031         0 -0.947156  0.234806  0.218546   \n",
       "1   2  53119  0.130709  0.000016         0 -0.947225  0.235187  0.217836   \n",
       "2   3  53119  0.336631  0.000082         0 -0.949070  0.234849  0.210030   \n",
       "3   4  53119  0.142885  0.000053         0 -0.947451  0.229448  0.222912   \n",
       "4   5  53119  0.333033  0.000095         0 -0.946479  0.230773  0.225659   \n",
       "\n",
       "   sciencePrimary  legacyPrimary  ...  extinction_i  extinction_z   dered_u  \\\n",
       "0               1              1  ...      0.027516      0.020467  19.71417   \n",
       "1               1              1  ...      0.027918      0.020766  19.58643   \n",
       "2               1              1  ...      0.023559      0.017523  22.31949   \n",
       "3               1              1  ...      0.025687      0.019107  20.64116   \n",
       "4               1              1  ...      0.024715      0.018383  23.93892   \n",
       "\n",
       "    dered_g   dered_r   dered_i   dered_z   p_cs   p_el  label  \n",
       "0  17.89782  16.85166  16.32594  15.97762  0.118  0.794      2  \n",
       "1  17.75586  16.77871  16.31574  15.95822  0.361  0.611      2  \n",
       "2  20.26227  18.50848  17.94978  17.54792  0.113  0.521      2  \n",
       "3  18.75389  17.68335  17.22151  16.83896  0.081  0.839      2  \n",
       "4  20.46024  18.67124  18.09332  17.73189  0.100  0.733      2  \n",
       "\n",
       "[5 rows x 90 columns]"
      ]
     },
     "execution_count": 10,
     "metadata": {},
     "output_type": "execute_result"
    }
   ],
   "source": [
    "import pandas as pd\n",
    "import pylab as pl\n",
    "import numpy as np\n",
    "\n",
    "\n",
    "df = pd.read_csv(\"data/GZ_mini_challenge_train.csv\")\n",
    "df.head()"
   ]
  },
  {
   "cell_type": "markdown",
   "metadata": {},
   "source": [
    "---\n",
    "### Evaluación\n",
    "\n",
    "Su nota en este item se calculará utilizando la siguiente fórmula:\n",
    "\n",
    "- $\\rm Nota_{\\rm clf} = 20\\times f_1 - 5$.\n",
    "\n",
    "De esta forma, si Ud. obtiene un $f_1$ menor que 0.3, obtendrá un 1.0, y si obtiene un $f_1$ sobre 0.6 obtendrá un 7.0. Además, los mejores 5 f1-score obtendrán automáticamente un punto adicional que se sumará al total de la nota de la tarea.\n",
    "\n",
    "Pueden enviaranos **tres** predicciones en total previo a su entrega final y les devolveremos sus f1-scores en un máximo de dos días hábiles. Esta opción sólo puede ser utilizada hasta el sabado 12 de octubre.\n",
    "\n",
    "---"
   ]
  },
  {
   "cell_type": "markdown",
   "metadata": {},
   "source": [
    "# **$\\bullet$ Regresión Lineal Bayesiana (Bonus, 1 punto sobre Nota T02)**"
   ]
  },
  {
   "cell_type": "markdown",
   "metadata": {
    "id": "U_nmb7PXTaD0"
   },
   "source": [
    "Considere un problema de regresión, donde, a partir de un conjunto de datos $\\{(\\boldsymbol{x}_1,y_1),(\\boldsymbol{x}_2,y_2),\\cdots, (\\boldsymbol{x}_N,y_N)\\}$, se desea encontrar una función que prediga el valor $y = f(\\boldsymbol{x}; \\boldsymbol{\\theta})$ para nuevos datos, donde $\\boldsymbol{\\theta}$ son los parámetros a ajustar del modelo. Considere un modelo de regresión lineal de $k$ parámetros\n",
    "\n",
    "$\\hat{y} = \\sum_{i=1}^k\\theta_ig_i(\\boldsymbol{x})$.\n",
    "\n",
    "En clases utilizamos un modelo de regresión regularizado usando la maximización del posterior, dando los resultados de la regularizacion de Ridge para un prior normal y de lasso para un prior de Laplace. Con esto obtuvimos un estimador puntual para los parámetros $\\boldsymbol{\\theta}$ que maximiza la distribución a-posteriori. Sin embargo, en principio, podriamos modelar completamente la distribución a-posteriori y la distribución predictiva."
   ]
  },
  {
   "cell_type": "markdown",
   "metadata": {},
   "source": [
    "### **$\\cdot$ Pregunta B.1 (0.35 puntos)**"
   ]
  },
  {
   "cell_type": "markdown",
   "metadata": {},
   "source": [
    "Considere errores y prior normales\n",
    "\n",
    "$p(y_i|\\boldsymbol{x_i}, \\boldsymbol{\\theta}, C) \\sim N (y_i|f(\\boldsymbol{x_i}; \\boldsymbol{\\theta}), C)$,\n",
    "\n",
    "$C = \\begin{pmatrix}\n",
    "\\sigma_1^2 & 0 & \\ldots & 0\\\\\n",
    "0 & \\sigma_2^2 & \\ldots & 0\\\\\n",
    "\\vdots & \\vdots & & \\vdots\\\\\n",
    "0 & 0 & \\ldots & \\sigma_N^2\n",
    "\\end{pmatrix}$\n",
    "\n",
    "$p(\\boldsymbol{\\theta}| \\boldsymbol{\\mu}_\\theta, C_\\theta) \\sim N (\\boldsymbol{\\theta}|\\boldsymbol{\\mu}_\\theta, C_\\theta)$,\n",
    "\n",
    "donde $\\boldsymbol{\\mu}_\\theta$ es la media y $C_\\theta$ la matriz de covarianza. Demuestre que\n",
    "\n",
    "$p(\\boldsymbol{\\theta}|\\{\\boldsymbol{x}_i,y_i\\}_{i=1}^N, \\boldsymbol{\\mu}_\\theta, C_\\theta, C) \\sim N (\\boldsymbol{\\theta}|\\boldsymbol{\\mu}_N, C_N)$,\n",
    "\n",
    "donde\n",
    "\n",
    "$\\boldsymbol{\\mu}_N = C_N(C_\\theta^{-1}\\boldsymbol{\\mu}_\\theta + M^TC^{-1}Y)$,\n",
    "\n",
    "$C_N = (M^TC^{-1}M)^{-1} + C_\\theta$,\n",
    "\n",
    "$M = \\begin{pmatrix}\n",
    "g_1(x_1) & g_2(x_1) & \\cdots & g_k(x_1)\\\\\n",
    "g_1(x_2) & g_2(x_2) & \\cdots & g_k(x_2)\\\\\n",
    "\\vdots & \\vdots & & \\vdots\\\\\n",
    "g_1(x_N) & g_2(x_N) & \\cdots & g_k(x_N)\n",
    "\\end{pmatrix}$,\n",
    "\n",
    "$Y = \\begin{pmatrix}\n",
    "y_1\\\\\n",
    "y_2\\\\\n",
    "\\vdots\\\\\n",
    "y_N\n",
    "\\end{pmatrix}$."
   ]
  },
  {
   "cell_type": "markdown",
   "metadata": {
    "id": "_CFSq8c1Te_T"
   },
   "source": [
    "### **$\\cdot$ Pregunta B.2 (0.35 puntos)**"
   ]
  },
  {
   "cell_type": "markdown",
   "metadata": {},
   "source": [
    "Considere $k = 2$, $g_1(x) = (1)$, $g_2(x) = x$, $\\boldsymbol{\\mu}_\\theta = (0, 0)$ y\n",
    "\n",
    "$C_\\theta = \\begin{pmatrix}\n",
    "1 & 0\\\\\n",
    "0 & 1\n",
    "\\end{pmatrix}$.\n",
    "\n",
    "Grafique el prior."
   ]
  },
  {
   "cell_type": "code",
   "execution_count": 3,
   "metadata": {
    "id": "gMDy1bbyTfZO"
   },
   "outputs": [],
   "source": [
    "# Grafique aquí el prior"
   ]
  },
  {
   "cell_type": "markdown",
   "metadata": {
    "id": "_rcDdN7cTlYS"
   },
   "source": [
    "Considere $k = 2$, $g_1(x) = (1)$ y $g_2(x) = x$ y los datos 1-D descritos a continuación. Utilizando el modelo Bayesiano de la pregunta B.1, grafique el posterior $p(\\boldsymbol{\\theta}|\\{\\boldsymbol{x}_i,y_i\\}_{i=1}^N)$"
   ]
  },
  {
   "cell_type": "code",
   "execution_count": 4,
   "metadata": {
    "colab": {
     "base_uri": "https://localhost:8080/",
     "height": 448
    },
    "id": "Q7EbbBWZThho",
    "outputId": "0d0ff343-663f-46a1-ebc7-c4ba9d2ba73e"
   },
   "outputs": [
    {
     "data": {
      "text/plain": [
       "<ErrorbarContainer object of 3 artists>"
      ]
     },
     "execution_count": 4,
     "metadata": {},
     "output_type": "execute_result"
    },
    {
     "data": {
      "image/png": "[encoded data removed]",
      "text/plain": [
       "<Figure size 640x480 with 1 Axes>"
      ]
     },
     "metadata": {},
     "output_type": "display_data"
    }
   ],
   "source": [
    "x = np.array([0.2, 1.3, 1.5, 1.8, 2.3, 4.2, 4.7, 4.9, 7.2, 8.1])\n",
    "y = np.array([2.5, 3.8, 3.4, 5.1, 4.7, 7.1, 7.7, 7.9, 11, 11.7])\n",
    "e = np.array([0.2, 0.5, 0.6, 0.7, 0.6, 0.5, 0.6, 0.6, 0.8, 0.9]) # error\n",
    "\n",
    "plt.errorbar(x, y, yerr = e, ls = \"\", marker = \".\")\n"
   ]
  },
  {
   "cell_type": "markdown",
   "metadata": {
    "id": "S9rVmOpaTvX-"
   },
   "source": [
    "Vuelva a graficar el posterior con los siguientes datos:"
   ]
  },
  {
   "cell_type": "code",
   "execution_count": 5,
   "metadata": {
    "colab": {
     "base_uri": "https://localhost:8080/",
     "height": 448
    },
    "id": "RogRMU-fTp91",
    "outputId": "577751dd-b429-408e-9b67-aac8c1fa03c1"
   },
   "outputs": [
    {
     "data": {
      "text/plain": [
       "<ErrorbarContainer object of 3 artists>"
      ]
     },
     "execution_count": 5,
     "metadata": {},
     "output_type": "execute_result"
    },
    {
     "data": {
      "image/png": "[encoded data removed]",
      "text/plain": [
       "<Figure size 640x480 with 1 Axes>"
      ]
     },
     "metadata": {},
     "output_type": "display_data"
    }
   ],
   "source": [
    "x = np.array([7.2, 8.1])\n",
    "y = np.array([11, 11.7])\n",
    "e = np.array([1.6, 1.8]) # error\n",
    "\n",
    "plt.errorbar(x, y, yerr = e, ls = \"\", marker = \".\")\n"
   ]
  },
  {
   "cell_type": "markdown",
   "metadata": {
    "id": "aQv0MheMT2EA"
   },
   "source": [
    "¿Qué diferencia nota? ¿A qué se debe esta diferencia?\n"
   ]
  },
  {
   "cell_type": "markdown",
   "metadata": {
    "id": "VyJmEWM6UEJ4"
   },
   "source": [
    "### **$\\cdot$ Pregunta B.3 (0.3 puntos)**"
   ]
  },
  {
   "cell_type": "markdown",
   "metadata": {},
   "source": [
    "En la práctica, lo que deseamos es obtener la distribución de $y$ para un $\\boldsymbol{x}$ nuevo dados los datos que usamos para entrenar y los supuestos que hicimos. En otras palabras, lo que queremos es $p(y|\\boldsymbol{x}, \\{\\boldsymbol{x}_i,y_i\\}_{i=1}^N, \\boldsymbol{\\mu}_\\theta, C_\\theta, C)$. Para calcular esta distribución, podemos marginalizar sobre $\\boldsymbol{\\theta}$:\n",
    "\n",
    "$p(y|\\boldsymbol{x}, \\{\\boldsymbol{x}_i,y_i\\}_{i=1}^N, \\boldsymbol{\\mu}_\\theta, C_\\theta, C) = \\int p(y|\\boldsymbol{x}, \\boldsymbol{\\theta}, C) p(\\boldsymbol{\\theta}|\\{\\boldsymbol{x}_i,y_i\\}_{i=1}^N, \\boldsymbol{\\mu}_\\theta, C_\\theta, C)d\\boldsymbol{\\theta}$.\n",
    "\n",
    "Demuestre que\n",
    "\n",
    "$p(y|\\boldsymbol{x}, \\{\\boldsymbol{x}_i,y_i\\}_{i=1}^N, \\boldsymbol{\\mu}_\\theta, C_\\theta, C) \\sim N(y|\\boldsymbol{\\mu}_N^T\\phi(\\boldsymbol{x}), \\sigma^2_N(\\boldsymbol{x}))$,\n",
    "\n",
    "donde\n",
    "\n",
    "$\\phi(\\boldsymbol{x}) = \\begin{pmatrix}\n",
    "g_1(\\boldsymbol{x})\\\\\n",
    "g_2(\\boldsymbol{x})\\\\\n",
    "\\vdots\\\\\n",
    "g_k(\\boldsymbol{x})\n",
    "\\end{pmatrix}$,\n",
    "\n",
    "$\\sigma^2_N(\\boldsymbol{x}) = \\sigma^2(\\boldsymbol{x}) + \\phi(\\boldsymbol{x})^TC_N\\phi(\\boldsymbol{x})$,\n",
    "\n",
    "y donde $\\sigma^2(\\boldsymbol{x})$ es el ruido de $y(\\boldsymbol{x})$."
   ]
  },
  {
   "cell_type": "markdown",
   "metadata": {},
   "source": []
  }
 ],
 "metadata": {
  "colab": {
   "provenance": []
  },
  "kernelspec": {
   "display_name": "Python 3 (ipykernel)",
   "language": "python",
   "name": "python3"
  },
  "language_info": {
   "codemirror_mode": {
    "name": "ipython",
    "version": 3
   },
   "file_extension": ".py",
   "mimetype": "text/x-python",
   "name": "python",
   "nbconvert_exporter": "python",
   "pygments_lexer": "ipython3",
   "version": "3.8.8"
  }
 },
 "nbformat": 4,
 "nbformat_minor": 1
}
